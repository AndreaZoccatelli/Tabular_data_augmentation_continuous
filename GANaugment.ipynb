{
 "cells": [
  {
   "attachments": {},
   "cell_type": "markdown",
   "metadata": {},
   "source": [
    "<font color=\"turquoise\"> Andrea Zoccatelli - 2023\n",
    "<br> \"Augmentation of tabular data with continuous\n",
    "features for binary imbalanced\n",
    "classification problems\"</font>"
   ]
  },
  {
   "attachments": {},
   "cell_type": "markdown",
   "metadata": {},
   "source": [
    "<h1>cGAN-based augmentation</h1>"
   ]
  },
  {
   "cell_type": "code",
   "execution_count": 1,
   "metadata": {},
   "outputs": [],
   "source": [
    "import pandas as pd\n",
    "import numpy as np\n",
    "from ctgan import CTGAN"
   ]
  },
  {
   "cell_type": "code",
   "execution_count": 4,
   "metadata": {},
   "outputs": [],
   "source": [
    "ctgan = CTGAN(epochs=10, verbose = False)"
   ]
  },
  {
   "attachments": {},
   "cell_type": "markdown",
   "metadata": {},
   "source": [
    "<h3>Best case</h3>"
   ]
  },
  {
   "cell_type": "code",
   "execution_count": 17,
   "metadata": {},
   "outputs": [],
   "source": [
    "#0.6 augmentation\n",
    "BestCase = pd.read_csv('BestCase_t.csv')\n",
    "BestCase = BestCase.drop('id', axis=1)\n",
    "\n",
    "n_min = round(0.6 * BestCase[BestCase['y'] == 1].shape[0])\n",
    "ctgan.fit(BestCase, discrete_columns='y')\n",
    "\n",
    "synthetic_data = ctgan.sample(BestCase.shape[0])\n",
    "synthtetic_data = synthetic_data[synthetic_data['y'] == 1]\n",
    "synthetic_data = synthetic_data.sample(n_min, random_state = 1)\n",
    "synthetic_data['type'] = 'synthetic'\n",
    "\n",
    "BestCase['type'] = ['positive' if k == 1 else 'negative' for k in BestCase['y']]\n",
    "BestCase = pd.concat([BestCase, synthetic_data])\n",
    "\n",
    "BestCase.to_csv('BestCase_a.csv', index_label='id')"
   ]
  },
  {
   "attachments": {},
   "cell_type": "markdown",
   "metadata": {},
   "source": [
    "<h3>20-30% Safe</h3>"
   ]
  },
  {
   "cell_type": "code",
   "execution_count": 21,
   "metadata": {},
   "outputs": [],
   "source": [
    "#0.8 augmentation\n",
    "Safe_20_30 = pd.read_csv('20_30Safe_t.csv')\n",
    "Safe_20_30 = Safe_20_30.drop('id', axis=1)\n",
    "\n",
    "n_min = round(0.8 * Safe_20_30[Safe_20_30['y'] == 1].shape[0])\n",
    "ctgan.fit(Safe_20_30, discrete_columns='y')\n",
    "\n",
    "synthetic_data = ctgan.sample(Safe_20_30.shape[0])\n",
    "synthtetic_data = synthetic_data[synthetic_data['y'] == 1]\n",
    "synthetic_data = synthetic_data.sample(n_min, random_state = 1)\n",
    "synthetic_data['type'] = 'synthetic'\n",
    "\n",
    "Safe_20_30['type'] = ['positive' if k == 1 else 'negative' for k in Safe_20_30['y']]\n",
    "Safe_20_30 = pd.concat([Safe_20_30, synthetic_data])\n",
    "\n",
    "Safe_20_30.to_csv('20_30Safe_a.csv', index_label='id')"
   ]
  },
  {
   "attachments": {},
   "cell_type": "markdown",
   "metadata": {},
   "source": [
    "<h3>Less 20% Safe</h3>"
   ]
  },
  {
   "cell_type": "code",
   "execution_count": 22,
   "metadata": {},
   "outputs": [],
   "source": [
    "#1 augmentation\n",
    "less20Safe = pd.read_csv('less20Safe_t.csv')\n",
    "less20Safe = less20Safe.drop('id', axis=1)\n",
    "\n",
    "n_min = round(1 * less20Safe[less20Safe['y'] == 1].shape[0])\n",
    "ctgan.fit(less20Safe, discrete_columns='y')\n",
    "\n",
    "synthetic_data = ctgan.sample(less20Safe.shape[0])\n",
    "synthtetic_data = synthetic_data[synthetic_data['y'] == 1]\n",
    "synthetic_data = synthetic_data.sample(n_min, random_state = 1)\n",
    "synthetic_data['type'] = 'synthetic'\n",
    "\n",
    "less20Safe['type'] = ['positive' if k == 1 else 'negative' for k in less20Safe['y']]\n",
    "less20Safe = pd.concat([less20Safe, synthetic_data])\n",
    "\n",
    "less20Safe.to_csv('less20Safe_a.csv', index_label='id')"
   ]
  },
  {
   "attachments": {},
   "cell_type": "markdown",
   "metadata": {},
   "source": [
    "<h3>10% Minority</h3>"
   ]
  },
  {
   "cell_type": "code",
   "execution_count": 23,
   "metadata": {},
   "outputs": [],
   "source": [
    "#0.2 augmentation\n",
    "Perc_10 = pd.read_csv('10perc_minority_t.csv')\n",
    "Perc_10 = Perc_10.drop('id', axis=1)\n",
    "\n",
    "n_min = round(0.2 * Perc_10[Perc_10['y'] == 1].shape[0])\n",
    "ctgan.fit(Perc_10, discrete_columns='y')\n",
    "\n",
    "synthetic_data = ctgan.sample(Perc_10.shape[0])\n",
    "synthtetic_data = synthetic_data[synthetic_data['y'] == 1]\n",
    "synthetic_data = synthetic_data.sample(n_min, random_state = 1)\n",
    "synthetic_data['type'] = 'synthetic'\n",
    "\n",
    "Perc_10['type'] = ['positive' if k == 1 else 'negative' for k in Perc_10['y']]\n",
    "Perc_10 = pd.concat([Perc_10, synthetic_data])\n",
    "\n",
    "Perc_10.to_csv('10perc_minority_a.csv', index_label='id')"
   ]
  },
  {
   "attachments": {},
   "cell_type": "markdown",
   "metadata": {},
   "source": [
    "<h3>5% Minority</h3>"
   ]
  },
  {
   "cell_type": "code",
   "execution_count": 24,
   "metadata": {},
   "outputs": [],
   "source": [
    "#0.2 augmentation\n",
    "Perc_5 = pd.read_csv('5perc_minority_t.csv')\n",
    "Perc_5 = Perc_5.drop('id', axis=1)\n",
    "\n",
    "n_min = round(0.2 * Perc_5[Perc_5['y'] == 1].shape[0])\n",
    "ctgan.fit(Perc_5, discrete_columns='y')\n",
    "\n",
    "synthetic_data = ctgan.sample(Perc_5.shape[0])\n",
    "synthtetic_data = synthetic_data[synthetic_data['y'] == 1]\n",
    "synthetic_data = synthetic_data.sample(n_min, random_state = 1)\n",
    "synthetic_data['type'] = 'synthetic'\n",
    "\n",
    "Perc_5['type'] = ['positive' if k == 1 else 'negative' for k in Perc_5['y']]\n",
    "Perc_5 = pd.concat([Perc_5, synthetic_data])\n",
    "\n",
    "Perc_5.to_csv('5perc_minority_a.csv', index_label='id')"
   ]
  },
  {
   "attachments": {},
   "cell_type": "markdown",
   "metadata": {},
   "source": [
    "<h3>4 Features</h3>"
   ]
  },
  {
   "cell_type": "code",
   "execution_count": 25,
   "metadata": {},
   "outputs": [],
   "source": [
    "#0.2 augmentation\n",
    "Features_4 = pd.read_csv('4features_t.csv')\n",
    "Features_4 = Features_4.drop('id', axis=1)\n",
    "\n",
    "n_min = round(0.2 * Features_4[Features_4['y'] == 1].shape[0])\n",
    "ctgan.fit(Features_4, discrete_columns='y')\n",
    "\n",
    "synthetic_data = ctgan.sample(Features_4.shape[0])\n",
    "synthtetic_data = synthetic_data[synthetic_data['y'] == 1]\n",
    "synthetic_data = synthetic_data.sample(n_min, random_state = 1)\n",
    "synthetic_data['type'] = 'synthetic'\n",
    "\n",
    "Features_4['type'] = ['positive' if k == 1 else 'negative' for k in Features_4['y']]\n",
    "Features_4 = pd.concat([Features_4, synthetic_data])\n",
    "\n",
    "Features_4.to_csv('4features_a.csv', index_label='id')"
   ]
  },
  {
   "attachments": {},
   "cell_type": "markdown",
   "metadata": {},
   "source": [
    "<h3>8 Features</h3>"
   ]
  },
  {
   "cell_type": "code",
   "execution_count": null,
   "metadata": {},
   "outputs": [],
   "source": [
    "#0.6 augmentation\n",
    "Features_8 = pd.read_csv('8features_t.csv')\n",
    "Features_8 = Features_8.drop('id', axis=1)\n",
    "\n",
    "n_min = round(0.6 * Features_8[Features_8['y'] == 1].shape[0])\n",
    "ctgan.fit(Features_8, discrete_columns='y')\n",
    "\n",
    "synthetic_data = ctgan.sample(Features_8.shape[0])\n",
    "synthtetic_data = synthetic_data[synthetic_data['y'] == 1]\n",
    "synthetic_data = synthetic_data.sample(n_min, random_state = 1)\n",
    "synthetic_data['type'] = 'synthetic'\n",
    "\n",
    "Features_8['type'] = ['positive' if k == 1 else 'negative' for k in Features_8['y']]\n",
    "Features_8 = pd.concat([Features_8, synthetic_data])\n",
    "\n",
    "Features_8.to_csv('8features_a.csv', index_label='id')"
   ]
  },
  {
   "attachments": {},
   "cell_type": "markdown",
   "metadata": {},
   "source": [
    "<h3>Default</h3>"
   ]
  },
  {
   "cell_type": "code",
   "execution_count": null,
   "metadata": {},
   "outputs": [],
   "source": [
    "#0.2 augmentation\n",
    "Safe_20_30 = pd.read_csv('20_30Safe_t.csv')\n",
    "Safe_20_30 = Safe_20_30.drop('id', axis=1)\n",
    "\n",
    "n_min = round(0.2 * Safe_20_30[Safe_20_30['y'] == 1].shape[0])\n",
    "ctgan.fit(Safe_20_30, discrete_columns='y')\n",
    "\n",
    "synthetic_data = ctgan.sample(Safe_20_30.shape[0])\n",
    "synthtetic_data = synthetic_data[synthetic_data['y'] == 1]\n",
    "synthetic_data = synthetic_data.sample(n_min, random_state = 1)\n",
    "synthetic_data['type'] = 'synthetic'\n",
    "\n",
    "Safe_20_30['type'] = ['positive' if k == 1 else 'negative' for k in Safe_20_30['y']]\n",
    "Safe_20_30 = pd.concat([Safe_20_30, synthetic_data])\n",
    "\n",
    "Safe_20_30.to_csv('20_30Safe_a.csv', index_label='id')"
   ]
  }
 ],
 "metadata": {
  "kernelspec": {
   "display_name": "Python 3",
   "language": "python",
   "name": "python3"
  },
  "language_info": {
   "codemirror_mode": {
    "name": "ipython",
    "version": 3
   },
   "file_extension": ".py",
   "mimetype": "text/x-python",
   "name": "python",
   "nbconvert_exporter": "python",
   "pygments_lexer": "ipython3",
   "version": "3.10.4"
  },
  "orig_nbformat": 4
 },
 "nbformat": 4,
 "nbformat_minor": 2
}
